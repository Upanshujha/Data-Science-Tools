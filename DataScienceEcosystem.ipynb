{
 "cells": [
  {
   "cell_type": "markdown",
   "id": "0887d6ad-b40a-465c-892f-2ca92b580e7c",
   "metadata": {},
   "source": [
    "# Data Science Tools and Ecosystem"
   ]
  },
  {
   "cell_type": "markdown",
   "id": "797e6420-4fe3-4560-ba1e-2ec71749610e",
   "metadata": {},
   "source": [
    "In this notebook, Data Science Tools and Ecosystem are summarized."
   ]
  },
  {
   "cell_type": "markdown",
   "id": "2c5fd278-4267-4a5b-b708-3e863d35959d",
   "metadata": {},
   "source": [
    "**Objectives:** \n",
    "* Python\n",
    "* R programming Language\n",
    "* SQL\n",
    "* Java\n",
    "* we also learnt to use RStudio, Anaconda Navigator, Jupyter Notebook, Github etc."
   ]
  },
  {
   "cell_type": "markdown",
   "id": "cbfa1df4-238d-4540-911b-5b17ca0a424f",
   "metadata": {},
   "source": [
    "#### Some of the popular languages that Data Scientists use are:\n",
    "1. Python\n",
    "2. R programming Language\n",
    "3. SQL\n",
    "4. Java"
   ]
  },
  {
   "cell_type": "markdown",
   "id": "9a3cce1c-71b7-4b9b-97ee-b6d14e47637c",
   "metadata": {},
   "source": [
    "#### Some of the commonly used and popular libraries used by Data Scientists include:\n",
    "1. Scikit-learn-Provides Machine learning algorithms\n",
    "2. Numpy-fundamental package for numerical computation\n",
    "3. Pandas-used for data analysis\n",
    "4. Matplotlib-used for data visualization\n",
    "5. Scipy-Extension of Numpy used in data manipulation and visualization etc."
   ]
  },
  {
   "cell_type": "markdown",
   "id": "b7940c71-84de-4be5-8cf6-e4b402d27a63",
   "metadata": {},
   "source": [
    "|Data Science Tools|\n",
    "-----------------------------\n",
    "| RStudio |\n",
    "| Visual Studio |\n",
    "| Anaconda Navigator |"
   ]
  },
  {
   "cell_type": "markdown",
   "id": "a18a128d-4ce4-43a2-8cb7-aa53fe7d86b9",
   "metadata": {},
   "source": [
    "### Below are a few examples of evaluating arithmetic expressions in Python"
   ]
  },
  {
   "cell_type": "code",
   "execution_count": 1,
   "id": "b6162dbf-c119-4b3f-a2db-123bfbfc5f0c",
   "metadata": {
    "tags": []
   },
   "outputs": [
    {
     "data": {
      "text/plain": [
       "17"
      ]
     },
     "execution_count": 1,
     "metadata": {},
     "output_type": "execute_result"
    }
   ],
   "source": [
    "# This a simple arithmetic expression to mutiply then add integers\n",
    "(3*4)+5"
   ]
  },
  {
   "cell_type": "code",
   "execution_count": 2,
   "id": "d3858467-f91b-4395-aaf1-be5de74f0007",
   "metadata": {
    "tags": []
   },
   "outputs": [
    {
     "data": {
      "text/plain": [
       "3.3333333333333335"
      ]
     },
     "execution_count": 2,
     "metadata": {},
     "output_type": "execute_result"
    }
   ],
   "source": [
    "# This will convert 200 minutes to hours by diving by 60\n",
    "200/60"
   ]
  },
  {
   "cell_type": "code",
   "execution_count": null,
   "id": "b4788ec0-cc69-4d97-927b-0619f8afeeb6",
   "metadata": {},
   "outputs": [],
   "source": []
  }
 ],
 "metadata": {
  "kernelspec": {
   "display_name": "Python",
   "language": "python",
   "name": "conda-env-python-py"
  },
  "language_info": {
   "codemirror_mode": {
    "name": "ipython",
    "version": 3
   },
   "file_extension": ".py",
   "mimetype": "text/x-python",
   "name": "python",
   "nbconvert_exporter": "python",
   "pygments_lexer": "ipython3",
   "version": "3.7.12"
  }
 },
 "nbformat": 4,
 "nbformat_minor": 5
}
